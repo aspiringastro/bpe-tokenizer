{
 "cells": [
  {
   "cell_type": "code",
   "execution_count": 81,
   "id": "692c9e5f-479f-4bd8-87c5-4c981f1eec6c",
   "metadata": {},
   "outputs": [
    {
     "data": {
      "text/plain": [
       "[('|s e m i s p i r i t o u s_', 1),\n",
       " ('|p r o t o c o c c a c e o u s_', 1),\n",
       " ('|p l a n o s o l_', 1),\n",
       " ('|f l a k i e r_', 1),\n",
       " ('|m a u r i t a n i a n s_', 1),\n",
       " ('|m e l e z i t a s e_', 1),\n",
       " ('|n o n p o r t_', 1),\n",
       " ('|d e s p o n s a t e_', 1),\n",
       " ('|u n s e r a p h i c a l_', 1),\n",
       " ('|r e t r o c e s s i o n a l_', 1)]"
      ]
     },
     "execution_count": 81,
     "metadata": {},
     "output_type": "execute_result"
    }
   ],
   "source": [
    "\n",
    "start_tok = '|'\n",
    "end_tok = '_'\n",
    "with open('words.txt', 'r', encoding='utf-8') as f:\n",
    "    text = f.read()\n",
    "\n",
    "words = list({(start_tok + ' '.join(ch for ch in w.lower()) + end_tok, 1) for w in filter(str.isalpha, text.splitlines())})\n",
    "words[:10]"
   ]
  },
  {
   "cell_type": "code",
   "execution_count": 82,
   "id": "3e05a183-e96d-478b-9fb4-484889c63270",
   "metadata": {},
   "outputs": [
    {
     "data": {
      "text/plain": [
       "\u001b[0;31mSignature:\u001b[0m \u001b[0mitertools\u001b[0m\u001b[0;34m.\u001b[0m\u001b[0mtee\u001b[0m\u001b[0;34m(\u001b[0m\u001b[0miterable\u001b[0m\u001b[0;34m,\u001b[0m \u001b[0mn\u001b[0m\u001b[0;34m=\u001b[0m\u001b[0;36m2\u001b[0m\u001b[0;34m,\u001b[0m \u001b[0;34m/\u001b[0m\u001b[0;34m)\u001b[0m\u001b[0;34m\u001b[0m\u001b[0;34m\u001b[0m\u001b[0m\n",
       "\u001b[0;31mDocstring:\u001b[0m Returns a tuple of n independent iterators.\n",
       "\u001b[0;31mType:\u001b[0m      builtin_function_or_method"
      ]
     },
     "metadata": {},
     "output_type": "display_data"
    }
   ],
   "source": [
    "from collections import deque\n",
    "import itertools\n",
    "?itertools.tee"
   ]
  },
  {
   "cell_type": "code",
   "execution_count": 83,
   "id": "98b097db-1bfc-41ed-910c-ac9c7b92a81a",
   "metadata": {},
   "outputs": [
    {
     "name": "stdout",
     "output_type": "stream",
     "text": [
      "[0, 1, 2, 3, 4, 5, 6, 7, 8, 9]\n",
      "(0, 1) (1, 2) (2, 3) (3, 4) (4, 5) (5, 6) (6, 7) (7, 8) (8, 9)\n"
     ]
    }
   ],
   "source": [
    "\n",
    "\n",
    "seq = [*range(10)]\n",
    "print(seq)\n",
    "\n",
    "def sliding_window(n, seq):\n",
    "    \"\"\" A sequence of overlapping subsequences \n",
    "    >>> list(sliding_window(2, [1,2,3,4]))\n",
    "    [(1,2),(2,3),(3,4)]\n",
    "    \n",
    "    \"\"\"\n",
    "    return zip(*(deque(itertools.islice(it, i), 0) or it for i, it in enumerate(itertools.tee(seq, n))))\n",
    "\n",
    "print(*sliding_window(2, seq))"
   ]
  },
  {
   "cell_type": "code",
   "execution_count": 84,
   "id": "eb2f8f9f-a7b2-40d1-8743-dbea8471e937",
   "metadata": {},
   "outputs": [],
   "source": [
    "from collections import Counter\n",
    "import sys\n",
    "\n",
    "vocab_size = 8192\n",
    "ngram_min = 2\n",
    "ngram_max = 4\n",
    "\n",
    "bptokens = Counter()\n",
    "for tok in { start_tok, end_tok }:\n",
    "    bptokens[tok] = sys.maxsize\n",
    "   \n"
   ]
  },
  {
   "cell_type": "code",
   "execution_count": 85,
   "id": "3e876ca5-b6dd-4140-8fe2-3920183bf933",
   "metadata": {},
   "outputs": [],
   "source": [
    "def make_byte_pair_counts(words):\n",
    "    for token, count in words:\n",
    "        bp_counts = Counter()\n",
    "        for ngram in token.split(' '):\n",
    "            bp_counts[ngram] += count\n",
    "\n",
    "        for ngsize in range(ngram_min, ngram_max + 1):\n",
    "            ngrams = [\"\".join(ngram) for ngram in sliding_window(ngsize, token.split(' '))]\n",
    "            for ngram in ngrams:\n",
    "                bp_counts[''.join(ngram)] += count\n",
    "        yield bp_counts\n"
   ]
  },
  {
   "cell_type": "code",
   "execution_count": 86,
   "id": "3f627249-363f-4f6e-be88-85546c912d9b",
   "metadata": {},
   "outputs": [],
   "source": [
    "for idx, bp_count in enumerate(make_byte_pair_counts(words)):\n",
    "    for byte_pair, count in bp_count.items():\n",
    "        bptokens[byte_pair] += count\n",
    "    "
   ]
  },
  {
   "cell_type": "code",
   "execution_count": 87,
   "id": "4d679db0-1b5c-485c-8ec3-44c6cbf0e6ab",
   "metadata": {},
   "outputs": [
    {
     "data": {
      "text/plain": [
       "152686"
      ]
     },
     "execution_count": 87,
     "metadata": {},
     "output_type": "execute_result"
    }
   ],
   "source": [
    "sorted(bptokens.items(), key=lambda pair: pair[1], reverse=True)\n",
    "len(bptokens)"
   ]
  },
  {
   "cell_type": "code",
   "execution_count": null,
   "id": "3c57025c-d37c-48f5-9490-d2f88aae8926",
   "metadata": {},
   "outputs": [],
   "source": []
  }
 ],
 "metadata": {
  "kernelspec": {
   "display_name": "Python 3 (ipykernel)",
   "language": "python",
   "name": "python3"
  },
  "language_info": {
   "codemirror_mode": {
    "name": "ipython",
    "version": 3
   },
   "file_extension": ".py",
   "mimetype": "text/x-python",
   "name": "python",
   "nbconvert_exporter": "python",
   "pygments_lexer": "ipython3",
   "version": "3.10.0"
  }
 },
 "nbformat": 4,
 "nbformat_minor": 5
}
